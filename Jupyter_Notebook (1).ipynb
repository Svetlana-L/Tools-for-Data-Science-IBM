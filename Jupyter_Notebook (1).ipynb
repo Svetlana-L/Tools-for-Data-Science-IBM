{
 "cells": [
  {
   "cell_type": "markdown",
   "metadata": {},
   "source": [
    "<center>\n",
    "    <img src=\"https://s3-api.us-geo.objectstorage.softlayer.net/cf-courses-data/CognitiveClass/Logos/organization_logo/organization_logo.png\" width=\"300\" alt=\"cognitiveclass.ai logo\"  />\n",
    "</center>\n"
   ]
  },
  {
   "cell_type": "markdown",
   "metadata": {},
   "source": [
    "#### Add your code below following the instructions given in the course\n"
   ]
  },
  {
   "cell_type": "markdown",
   "metadata": {},
   "source": [
    "# My Jupyter Notebook on IBM Watson Studio #"
   ]
  },
  {
   "cell_type": "markdown",
   "metadata": {},
   "source": [
    "**Svetlana Lyubavina**\n",
    "\n",
    "Researcher"
   ]
  },
  {
   "cell_type": "markdown",
   "metadata": {},
   "source": [
    "*I am interested in data science because data science makes me feel smart*"
   ]
  },
  {
   "cell_type": "markdown",
   "metadata": {},
   "source": [
    "### Generate the Fibonacci sequence using a recursive algorithm ###"
   ]
  },
  {
   "cell_type": "code",
   "execution_count": 4,
   "metadata": {},
   "outputs": [
    {
     "data": {
      "text/plain": [
       "[0, 1, 1, 2, 3, 5, 8, 13, 21, 34, 55, 89, 144, 233, 377]"
      ]
     },
     "execution_count": 4,
     "metadata": {},
     "output_type": "execute_result"
    }
   ],
   "source": [
    "def fibonacci_of(n):\n",
    "    if n in {0, 1}:  # Base case\n",
    "        return n\n",
    "    return fibonacci_of(n - 1) + fibonacci_of(n - 2)  # Recursive case\n",
    "\n",
    "\n",
    "[fibonacci_of(n) for n in range(15)]"
   ]
  },
  {
   "cell_type": "markdown",
   "metadata": {},
   "source": [
    "\n",
    "***\n",
    "\n"
   ]
  },
  {
   "cell_type": "markdown",
   "metadata": {},
   "source": [
    "+ Generate the Fibonacci sequence using a recursive algorithm\n",
    "+ Optimize the recursive Fibonacci algorithm using memoization\n",
    "+ Generate the Fibonacci sequence using an iterative algorithm"
   ]
  },
  {
   "cell_type": "markdown",
   "metadata": {},
   "source": [
    "#### The Fibonacci Sequence. The first ten numbers of the sequence\n",
    "1. 1\n",
    "2. 1\n",
    "3. 2\n",
    "4. 3\n",
    "5. 5\n",
    "6. 8\n",
    "7. 13\n",
    "8. 21\n",
    "9. 34\n",
    "10. 55"
   ]
  },
  {
   "cell_type": "markdown",
   "metadata": {},
   "source": [
    "[A Python Guide to the Fibonacci Sequence](https://realpython.com/fibonacci-sequence-python/)"
   ]
  },
  {
   "cell_type": "markdown",
   "metadata": {},
   "source": [
    "![The Fibonacci Sequence](https://files.realpython.com/media/Fibonacci-Sequence-in-Python_Watermarked.79104bd455b7.jpg)"
   ]
  },
  {
   "cell_type": "markdown",
   "metadata": {},
   "source": [
    "| Plugin | README |\n",
    "| ------ | ------ |\n",
    "| Dropbox | 1 |\n",
    "| GitHub | 2|\n",
    "| Google Drive | 3 |\n",
    "| OneDrive | 4 |\n",
    "| Medium | 5 |\n",
    "| Google Analytics | 6 |"
   ]
  },
  {
   "cell_type": "markdown",
   "metadata": {},
   "source": [
    "### Thank you for your attention! Good luck and success! ###"
   ]
  },
  {
   "cell_type": "code",
   "execution_count": null,
   "metadata": {},
   "outputs": [],
   "source": []
  }
 ],
 "metadata": {
  "kernelspec": {
   "display_name": "Python",
   "language": "python",
   "name": "conda-env-python-py"
  },
  "language_info": {
   "codemirror_mode": {
    "name": "ipython",
    "version": 3
   },
   "file_extension": ".py",
   "mimetype": "text/x-python",
   "name": "python",
   "nbconvert_exporter": "python",
   "pygments_lexer": "ipython3",
   "version": "3.7.12"
  }
 },
 "nbformat": 4,
 "nbformat_minor": 4
}
